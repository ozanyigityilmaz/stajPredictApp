{
 "cells": [
  {
   "cell_type": "code",
   "execution_count": null,
   "id": "368f2ca0",
   "metadata": {
    "scrolled": true
   },
   "outputs": [
    {
     "name": "stdout",
     "output_type": "stream",
     "text": [
      " * Serving Flask app '__main__'\n",
      " * Debug mode: on\n"
     ]
    },
    {
     "name": "stderr",
     "output_type": "stream",
     "text": [
      "WARNING: This is a development server. Do not use it in a production deployment. Use a production WSGI server instead.\n",
      " * Running on http://127.0.0.1:5000\n",
      "Press CTRL+C to quit\n",
      "127.0.0.1 - - [28/Jul/2023 13:40:59] \"GET / HTTP/1.1\" 200 -\n"
     ]
    }
   ],
   "source": [
    "from flask import Flask, render_template, request\n",
    "from joblib import load\n",
    "\n",
    "app = Flask(__name__)\n",
    "\n",
    "model = load('model.joblib')\n",
    "\n",
    "@app.route('/', methods=['GET', 'POST'])\n",
    "def home():\n",
    "    prediction = None\n",
    "    if request.method == 'POST':\n",
    "        attribute1 = float(request.form['attribute1'])\n",
    "        attribute2 = float(request.form['attribute2'])\n",
    "        attribute3 = float(request.form['attribute3'])\n",
    "        attribute4 = float(request.form['attribute4'])\n",
    "        attribute5 = float(request.form['attribute5'])\n",
    "        \n",
    "        attributeSelection = request.form['attributeSelection']\n",
    "        if attributeSelection == \"H\":\n",
    "            attribute6 = 1\n",
    "            attribute7 = 0\n",
    "            attribute8 = 0\n",
    "        elif attributeSelection == \"L\":\n",
    "            attribute6 = 0\n",
    "            attribute7 = 1\n",
    "            attribute8 = 0\n",
    "        elif attributeSelection == \"M\":\n",
    "            attribute6 = 0\n",
    "            attribute7 = 0\n",
    "            attribute8 = 1\n",
    "        else :\n",
    "            attribute6 = 0\n",
    "            attribute7 = 0\n",
    "            attribute8 = 0\n",
    "        user_input = [[attribute1, attribute2, attribute3, attribute4, attribute5, attribute6, attribute7, attribute8]]\n",
    "        print(user_input)\n",
    "\n",
    "        prediction = model.predict(user_input)\n",
    "    return render_template('index.html', prediction=prediction)\n",
    "\n",
    "if __name__ == '__main__':\n",
    "    app.run(debug=True)\n"
   ]
  },
  {
   "cell_type": "code",
   "execution_count": null,
   "id": "ce01e0bf",
   "metadata": {},
   "outputs": [],
   "source": []
  },
  {
   "cell_type": "code",
   "execution_count": null,
   "id": "124161d9",
   "metadata": {},
   "outputs": [],
   "source": []
  }
 ],
 "metadata": {
  "kernelspec": {
   "display_name": "Python 3 (ipykernel)",
   "language": "python",
   "name": "python3"
  },
  "language_info": {
   "codemirror_mode": {
    "name": "ipython",
    "version": 3
   },
   "file_extension": ".py",
   "mimetype": "text/x-python",
   "name": "python",
   "nbconvert_exporter": "python",
   "pygments_lexer": "ipython3",
   "version": "3.11.3"
  }
 },
 "nbformat": 4,
 "nbformat_minor": 5
}
